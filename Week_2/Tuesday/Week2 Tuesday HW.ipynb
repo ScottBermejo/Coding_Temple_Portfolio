{
 "cells": [
  {
   "cell_type": "markdown",
   "metadata": {},
   "source": [
    "Excercise 1:"
   ]
  },
  {
   "cell_type": "code",
   "execution_count": null,
   "metadata": {},
   "outputs": [],
   "source": [
    "from IPython.display import clear_output\n",
    "\n",
    "shop_list = []\n",
    "d_list = []\n",
    "\n",
    "done = False\n",
    "while not done:\n",
    "    u_input = input(\"Would you like to add, delete, show\\nor quit your current shopping list: \").lower()\n",
    "    clear_output()\n",
    "    \n",
    "    if u_input == 'quit':\n",
    "        done = True\n",
    "    elif u_input == 'show':\n",
    "        for item in shop_list:\n",
    "            print(f\"{item['category'].title()} : {item['item'].title()}\")\n",
    "    elif u_input == 'add':\n",
    "        c_name = input(\"What category, ex. Meat, Vegetable, Fruit, etc.: \").lower()\n",
    "        i_name = input(\"What item, ex. Apple, Broccoli, Chicken: \").lower()\n",
    "        \n",
    "        cart = {\n",
    "            'category': c_name,\n",
    "            'item': i_name\n",
    "        }\n",
    "        shop_list.append(cart)\n",
    "    elif u_input == 'delete':\n",
    "        dc_name = input(\"Which category to delete?: \").lower()\n",
    "        dc_item = input(\"Which item to delete?: \").lower()\n",
    "        \n",
    "        for item in shop_list:\n",
    "            if dc_name != item['category'].lower() and dc_item != item['item'].lower():\n",
    "                d_list.append(item)\n",
    "        shop_list = d_list\n",
    "    else:\n",
    "        print(\"You typed something else, Try reading the instructions.\")\n",
    "        continue\n",
    "        \n",
    "for i in shop_list:\n",
    "    print(f\"{i['category'].title()} : {i['item'].title()}\")\n"
   ]
  },
  {
   "cell_type": "markdown",
   "metadata": {},
   "source": [
    "Excercise 2:"
   ]
  },
  {
   "cell_type": "code",
   "execution_count": null,
   "metadata": {
    "scrolled": false
   },
   "outputs": [
    {
     "name": "stdout",
     "output_type": "stream",
     "text": [
      "Type 1 to calculate sq footage\\Type 2 to calculate circumference (type 3 to leave): 1\n",
      "Specify Length: 2\n",
      "Specify Width: 2\n",
      "Your sq footage is:  4\n"
     ]
    }
   ],
   "source": [
    "%run ./excercise2.py\n",
    "\n",
    "done = False\n",
    "while not done:\n",
    "    u_input = int(input(\"Type 1 to calculate sq footage\\Type 2 to calculate circumference (type 3 to leave): \"))\n",
    "    if u_input == 1:\n",
    "        u_len = int(input(\"Specify Length: \"))\n",
    "        u_wid = int(input(\"Specify Width: \"))\n",
    "        print(\"Your sq footage is: \",sq_foot(u_len,u_wid))\n",
    "    elif u_input == 2:\n",
    "        u_rad = int(input(\"What is the radius?: \"))\n",
    "        print(\"Your circumference is: \",c_cir(u_rad))\n",
    "    elif u_input == 3:\n",
    "        print(\"Goodbye!\")\n",
    "        done = True\n",
    "    else:\n",
    "        print(\"Invalid Input\")\n",
    "        continue"
   ]
  },
  {
   "cell_type": "code",
   "execution_count": null,
   "metadata": {},
   "outputs": [],
   "source": []
  }
 ],
 "metadata": {
  "kernelspec": {
   "display_name": "Python 3",
   "language": "python",
   "name": "python3"
  },
  "language_info": {
   "codemirror_mode": {
    "name": "ipython",
    "version": 3
   },
   "file_extension": ".py",
   "mimetype": "text/x-python",
   "name": "python",
   "nbconvert_exporter": "python",
   "pygments_lexer": "ipython3",
   "version": "3.8.5"
  }
 },
 "nbformat": 4,
 "nbformat_minor": 4
}
