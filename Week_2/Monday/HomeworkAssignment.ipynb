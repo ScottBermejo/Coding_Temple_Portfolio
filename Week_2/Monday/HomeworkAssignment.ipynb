{
 "cells": [
  {
   "cell_type": "markdown",
   "id": "professional-envelope",
   "metadata": {},
   "source": [
    "Python Homework"
   ]
  },
  {
   "cell_type": "markdown",
   "id": "innovative-memory",
   "metadata": {},
   "source": [
    "Excercise 1:"
   ]
  },
  {
   "cell_type": "code",
   "execution_count": 30,
   "id": "protective-poverty",
   "metadata": {
    "scrolled": true
   },
   "outputs": [
    {
     "name": "stdout",
     "output_type": "stream",
     "text": [
      "Provide two numbers with a space in between:12 12\n",
      "Which Calculation Sign:+\n",
      "Answer is: 24\n",
      "Would you like to continue? y/n:y\n",
      "Provide two numbers with a space in between:12 12\n",
      "Which Calculation Sign:x\n",
      "Answer is: 144\n",
      "Would you like to continue? y/n:y\n",
      "Provide two numbers with a space in between:12 12\n",
      "Which Calculation Sign:/\n",
      "Answer is: 1.0\n",
      "Would you like to continue? y/n:n\n"
     ]
    }
   ],
   "source": [
    "def calc_this(num1,num2):\n",
    "    user_input = input(\"Which Calculation Sign:\")\n",
    "    if user_input == '+':\n",
    "        return (num1+num2)\n",
    "    elif user_input == 'x':\n",
    "        return (num1 * num2)\n",
    "    elif user_input == '-':\n",
    "        return (num1 - num2)\n",
    "    elif user_input == '/':\n",
    "        return (num1/num2)\n",
    "    else:\n",
    "        print(\"Invalid sign, please use + x - /\")\n",
    "\n",
    "\n",
    "user_done = True\n",
    "while user_done:\n",
    "    u_input = input(\"Provide two numbers with a space in between:\").split()\n",
    "    print(\"Answer is:\",calc_this(int(u_input[0]),int(u_input[1])))\n",
    "    u_done = input(\"Would you like to continue? y/n:\")\n",
    "    if u_done == \"n\":\n",
    "        user_done = False\n",
    "    \n",
    "    \n"
   ]
  },
  {
   "cell_type": "markdown",
   "id": "palestinian-daily",
   "metadata": {},
   "source": [
    "Excercise 2:"
   ]
  },
  {
   "cell_type": "code",
   "execution_count": 187,
   "id": "restricted-florist",
   "metadata": {
    "scrolled": true
   },
   "outputs": [
    {
     "name": "stdout",
     "output_type": "stream",
     "text": [
      "How many rows on the triangle?: 6\n",
      "    x\n",
      "   xxx\n",
      "   xxxxx\n",
      "  xxxxxxx\n",
      "  xxxxxxxxx\n",
      " xxxxxxxxxxx\n"
     ]
    }
   ],
   "source": [
    "def create_pyramid(num):\n",
    "    x_list = []\n",
    "    x_count = 0\n",
    "    for k in range(1,num+1):\n",
    "        c_num = num/2\n",
    "        while c_num >= 0:\n",
    "            print(\" \", end=\"\")\n",
    "            c_num = c_num - 1\n",
    "        num = num - 1\n",
    "        while x_count < (k*2 - 1):\n",
    "            x_list.append('x')\n",
    "            x_count += 1\n",
    "        print(\"\".join(x_list))\n",
    "n = int(input(\"How many rows on the triangle?: \"))\n",
    "create_pyramid(n)"
   ]
  },
  {
   "cell_type": "code",
   "execution_count": null,
   "id": "elder-swedish",
   "metadata": {},
   "outputs": [],
   "source": []
  }
 ],
 "metadata": {
  "kernelspec": {
   "display_name": "Python 3",
   "language": "python",
   "name": "python3"
  },
  "language_info": {
   "codemirror_mode": {
    "name": "ipython",
    "version": 3
   },
   "file_extension": ".py",
   "mimetype": "text/x-python",
   "name": "python",
   "nbconvert_exporter": "python",
   "pygments_lexer": "ipython3",
   "version": "3.9.1"
  }
 },
 "nbformat": 4,
 "nbformat_minor": 5
}
